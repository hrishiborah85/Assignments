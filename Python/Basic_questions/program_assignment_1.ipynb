{
 "cells": [
  {
   "cell_type": "markdown",
   "id": "bde391bc",
   "metadata": {},
   "source": [
    "### Write a Python program to convert kilometers to miles?"
   ]
  },
  {
   "cell_type": "markdown",
   "id": "608f9001",
   "metadata": {},
   "source": [
    "1.609km=1 mile"
   ]
  },
  {
   "cell_type": "code",
   "execution_count": 12,
   "id": "834e31d5",
   "metadata": {},
   "outputs": [],
   "source": [
    "def km_to_mile(value):\n",
    "    value_in_miles=value*(1/1.609)\n",
    "    print(value_in_miles,'miles')\n"
   ]
  },
  {
   "cell_type": "code",
   "execution_count": 13,
   "id": "3b196534",
   "metadata": {},
   "outputs": [
    {
     "name": "stdout",
     "output_type": "stream",
     "text": [
      "value in kms::::12\n",
      "7.458048477315103 miles\n"
     ]
    }
   ],
   "source": [
    "value=int(input('value in kms::::'))\n",
    "km_to_mile(value)"
   ]
  },
  {
   "cell_type": "markdown",
   "id": "b7e23aee",
   "metadata": {},
   "source": [
    "### Write a Python program to convert Celsius to Fahrenheit?"
   ]
  },
  {
   "cell_type": "markdown",
   "id": "62e2080f",
   "metadata": {},
   "source": [
    "f=(9/5)*c+32"
   ]
  },
  {
   "cell_type": "code",
   "execution_count": 16,
   "id": "36cf54ef",
   "metadata": {},
   "outputs": [],
   "source": [
    "def celcius_to_fahrenheit(value):\n",
    "    value_in_fahrenheit=(9/5)*value+32\n",
    "    print(value_in_fahrenheit,'Fahrenheit')\n"
   ]
  },
  {
   "cell_type": "code",
   "execution_count": 17,
   "id": "42722693",
   "metadata": {},
   "outputs": [
    {
     "name": "stdout",
     "output_type": "stream",
     "text": [
      "value in celcius::::40\n",
      "104.0 Fahrenheit\n"
     ]
    }
   ],
   "source": [
    "value=int(input('value in celcius::::'))\n",
    "celcius_to_fahrenheit(value)"
   ]
  },
  {
   "cell_type": "markdown",
   "id": "b6fc111a",
   "metadata": {},
   "source": [
    "### Write a Python program to display calendar?"
   ]
  },
  {
   "cell_type": "code",
   "execution_count": 30,
   "id": "7ac79aa4",
   "metadata": {},
   "outputs": [],
   "source": [
    "import calendar"
   ]
  },
  {
   "cell_type": "code",
   "execution_count": 32,
   "id": "ec215006",
   "metadata": {},
   "outputs": [
    {
     "name": "stdout",
     "output_type": "stream",
     "text": [
      "Enter year::::2020\n",
      "Enter month in numbers::5\n",
      "      May 2020\n",
      "Mo Tu We Th Fr Sa Su\n",
      "             1  2  3\n",
      " 4  5  6  7  8  9 10\n",
      "11 12 13 14 15 16 17\n",
      "18 19 20 21 22 23 24\n",
      "25 26 27 28 29 30 31\n",
      "\n"
     ]
    }
   ],
   "source": [
    "yy = int(input(\"Enter year::::\"))\n",
    "mm = int(input(\"Enter month in numbers::\"))\n",
    "# display the calendar\n",
    "print(calendar.month(yy, mm))"
   ]
  },
  {
   "cell_type": "markdown",
   "id": "a6456027",
   "metadata": {},
   "source": [
    "### Write a Python program to solve quadratic equation?"
   ]
  },
  {
   "cell_type": "code",
   "execution_count": 57,
   "id": "3e8e2b7d",
   "metadata": {},
   "outputs": [],
   "source": [
    "import math"
   ]
  },
  {
   "cell_type": "code",
   "execution_count": 58,
   "id": "7922ca9d",
   "metadata": {},
   "outputs": [],
   "source": [
    "def findRoots(a, b, c):  \n",
    "    \n",
    "    if a!=0:\n",
    "        value=b**2-4*a*c\n",
    "        root_value = math.sqrt(abs(value))  \n",
    "\n",
    "\n",
    "        if value > 0:  \n",
    "            print(\" real and different roots \")  \n",
    "            print((-b + root_value)/(2*a))  \n",
    "            print((-b - root_value)/(2*a))  \n",
    "\n",
    "        elif value == 0:  \n",
    "            print((-b)/ (2*a))  \n",
    "\n",
    "        else:\n",
    "            print('complex roots')\n",
    "\n",
    "    else:\n",
    "        print('not a quadratic equation')\n"
   ]
  },
  {
   "cell_type": "code",
   "execution_count": 59,
   "id": "ba6cc727",
   "metadata": {},
   "outputs": [
    {
     "name": "stdout",
     "output_type": "stream",
     "text": [
      "Enter a:2\n",
      "Enter b:3\n",
      "Enter c:1\n"
     ]
    }
   ],
   "source": [
    "a = int(input('Enter a:'))  \n",
    "b = int(input('Enter b:'))  \n",
    "c = int(input('Enter c:'))"
   ]
  },
  {
   "cell_type": "code",
   "execution_count": 60,
   "id": "597194b0",
   "metadata": {},
   "outputs": [
    {
     "name": "stdout",
     "output_type": "stream",
     "text": [
      " real and different roots \n",
      "-0.5\n",
      "-1.0\n"
     ]
    }
   ],
   "source": [
    "findRoots(a, b, c)  "
   ]
  },
  {
   "cell_type": "markdown",
   "id": "fafa315e",
   "metadata": {},
   "source": [
    "### Write a Python program to swap two variables without temp variable?"
   ]
  },
  {
   "cell_type": "code",
   "execution_count": 63,
   "id": "5517a3a5",
   "metadata": {},
   "outputs": [
    {
     "name": "stdout",
     "output_type": "stream",
     "text": [
      "enter value of a::12\n",
      "enter value of b:::30\n"
     ]
    }
   ],
   "source": [
    "a=int(input('enter value of a::'))\n",
    "b=int(input('enter value of b:::'))"
   ]
  },
  {
   "cell_type": "code",
   "execution_count": 64,
   "id": "c62dab34",
   "metadata": {},
   "outputs": [
    {
     "name": "stdout",
     "output_type": "stream",
     "text": [
      "42\n"
     ]
    }
   ],
   "source": [
    "a=a+b\n",
    "print(a)"
   ]
  },
  {
   "cell_type": "code",
   "execution_count": 65,
   "id": "6b42e8d4",
   "metadata": {},
   "outputs": [
    {
     "name": "stdout",
     "output_type": "stream",
     "text": [
      "12\n"
     ]
    }
   ],
   "source": [
    "b=a-b\n",
    "print(b)"
   ]
  },
  {
   "cell_type": "code",
   "execution_count": 66,
   "id": "a4e376f5",
   "metadata": {},
   "outputs": [
    {
     "name": "stdout",
     "output_type": "stream",
     "text": [
      "30\n"
     ]
    }
   ],
   "source": [
    "a=a-b\n",
    "print(a)"
   ]
  },
  {
   "cell_type": "code",
   "execution_count": null,
   "id": "f0bf620b",
   "metadata": {},
   "outputs": [],
   "source": []
  },
  {
   "cell_type": "code",
   "execution_count": null,
   "id": "a37d38a9",
   "metadata": {},
   "outputs": [],
   "source": []
  }
 ],
 "metadata": {
  "kernelspec": {
   "display_name": "Python 3 (ipykernel)",
   "language": "python",
   "name": "python3"
  },
  "language_info": {
   "codemirror_mode": {
    "name": "ipython",
    "version": 3
   },
   "file_extension": ".py",
   "mimetype": "text/x-python",
   "name": "python",
   "nbconvert_exporter": "python",
   "pygments_lexer": "ipython3",
   "version": "3.10.4"
  }
 },
 "nbformat": 4,
 "nbformat_minor": 5
}
